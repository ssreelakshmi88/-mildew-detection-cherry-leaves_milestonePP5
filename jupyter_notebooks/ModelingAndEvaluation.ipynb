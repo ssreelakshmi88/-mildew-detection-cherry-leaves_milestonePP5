{
 "cells": [
  {
   "attachments": {},
   "cell_type": "markdown",
   "metadata": {},
   "source": [
    "# **Modeling and Evaluation**"
   ]
  },
  {
   "attachments": {},
   "cell_type": "markdown",
   "metadata": {},
   "source": [
    "## Objectives"
   ]
  },
  {
   "attachments": {},
   "cell_type": "markdown",
   "metadata": {},
   "source": [
    "#### Business requirement\n",
    "\n",
    "  - The client is interested in predicting if a cherry leaf is healthy or contains powdery mildew.\n",
    "\n",
    "#### Outputs\n",
    "\n",
    "- Images distribution plot in train, validation, and test set\n",
    "- Image augmentation\n",
    "- Class indices to change prediction inference in labels\n",
    "- Machine learning model creation and training\n",
    "- Save model\n",
    "- Learning curve plot for model performance\n",
    "- Model evaluation on pickle file\n",
    "- Prediction on the random image file\n"
   ]
  },
  {
   "cell_type": "code",
   "execution_count": null,
   "metadata": {},
   "outputs": [],
   "source": []
  }
 ],
 "metadata": {
  "kernelspec": {
   "display_name": "Python 3",
   "language": "python",
   "name": "python3"
  },
  "language_info": {
   "name": "python",
   "version": "3.8.12 (default, Feb  5 2023, 11:02:29) \n[GCC 9.4.0]"
  },
  "orig_nbformat": 4,
  "vscode": {
   "interpreter": {
    "hash": "8b8334dab9339717f727a1deaf837b322d7a41c20d15cc86be99a8e69ceec8ce"
   }
  }
 },
 "nbformat": 4,
 "nbformat_minor": 2
}
